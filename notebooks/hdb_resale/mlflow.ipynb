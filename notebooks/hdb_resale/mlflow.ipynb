{
 "cells": [
  {
   "cell_type": "code",
   "execution_count": null,
   "metadata": {},
   "outputs": [],
   "source": [
    "import logging\n",
    "import os\n",
    "import hydra\n",
    "\n",
    "import mlflow\n",
    "from dotenv import load_dotenv\n",
    "from mlflow.models import infer_signature\n",
    "\n",
    "from hdb_resale import data, model, sql\n",
    "\n",
    "# Setup logger\n",
    "logger = logging.getLogger(__name__)"
   ]
  },
  {
   "cell_type": "code",
   "execution_count": null,
   "metadata": {},
   "outputs": [],
   "source": [
    "# Retrieve environment variables\n",
    "load_dotenv()\n",
    "\n",
    "POSTGRESQL_DASH_USER = os.environ.get(\"POSTGRESQL_DASH_USER\")\n",
    "POSTGRESQL_DASH_PASSWORD = os.environ.get(\"POSTGRESQL_DASH_PASSWORD\")\n",
    "POSTGRESQL_DASH_DATABASE = os.environ.get(\"POSTGRESQL_DASH_DATABASE\")\n",
    "POSTGRESQL_HOST = os.environ.get(\"POSTGRESQL_HOST\")\n",
    "POSTGRESQL_PORT = os.environ.get(\"POSTGRESQL_PORT\")\n",
    "\n",
    "MLFLOW_TRACKING_USERNAME = os.environ.get(\"MLFLOW_TRACKING_USERNAME\")\n",
    "MLFLOW_TRACKING_PASSWORD = os.environ.get(\"MLFLOW_TRACKING_PASSWORD\")"
   ]
  },
  {
   "cell_type": "code",
   "execution_count": null,
   "metadata": {},
   "outputs": [],
   "source": [
    "config_directory = \"../../conf\"\n",
    "config_name = \"hdb_resale_config\"\n",
    "\n",
    "with hydra.initialize(version_base=None, config_path=config_directory):\n",
    "    cfg = hydra.compose(config_name=config_name)"
   ]
  },
  {
   "cell_type": "code",
   "execution_count": null,
   "metadata": {},
   "outputs": [],
   "source": [
    "engine, metadata = sql.setup_database(\n",
    "    postgresql_dash_user=POSTGRESQL_DASH_USER,\n",
    "    postgresql_dash_password=POSTGRESQL_DASH_PASSWORD,\n",
    "    postgresql_dash_database=POSTGRESQL_DASH_DATABASE,\n",
    "    postgresql_host=POSTGRESQL_HOST,\n",
    "    postgresql_port=POSTGRESQL_PORT,\n",
    ")\n",
    "\n",
    "# Get training data\n",
    "X, y = data.get_training_data(cfg=cfg, engine=engine, metadata=metadata)"
   ]
  },
  {
   "cell_type": "code",
   "execution_count": null,
   "metadata": {},
   "outputs": [],
   "source": [
    "# Define model hyperparameters\n",
    "params = {\n",
    "    \"random_state\": cfg.model.random_state,\n",
    "}\n",
    "\n",
    "# Setup ML model\n",
    "# Define ensemble model\n",
    "resale_model = model.MultiTreeEnsembleRegressor(**params)\n",
    "\n",
    "# Run model training\n",
    "logger.info(\"Training model......\")\n",
    "resale_model = model.train_model(X=X, y=y, model=resale_model)"
   ]
  },
  {
   "cell_type": "code",
   "execution_count": null,
   "metadata": {},
   "outputs": [],
   "source": [
    "# Run model diagnosis\n",
    "logger.info(\"Diagnosing model......\")\n",
    "cv_res, size, diag_fig = model.diagnose_model(\n",
    "    X=X,\n",
    "    y=y,\n",
    "    model=resale_model,\n",
    "    random_state=cfg.model.random_state,\n",
    ")"
   ]
  },
  {
   "cell_type": "code",
   "execution_count": null,
   "metadata": {},
   "outputs": [],
   "source": [
    "# Setup the MLflow Experiment\n",
    "# It will create a new experiment if not exist\n",
    "tags = {\n",
    "    \"description\": \"Model that predicts the price of HDB resale flats\",\n",
    "    \"data_source\": engine.url.render_as_string(hide_password=True),\n",
    "}\n",
    "mlflow.set_experiment(\"HDB Resale Price\")\n",
    "mlflow.set_experiment_tags(tags)\n",
    "\n",
    "model_name = \"hdb-resale-price\"\n",
    "\n",
    "# Start an MLflow run\n",
    "with mlflow.start_run():\n",
    "    # Infer the model signature\n",
    "    signature = infer_signature(X, resale_model.predict(X))\n",
    "\n",
    "    # Log the model\n",
    "    # Do not register model here, register later for more flexibility\n",
    "    _ = mlflow.sklearn.log_model(\n",
    "        sk_model=resale_model,\n",
    "        artifact_path=\"hdb_resale\",\n",
    "        signature=signature,\n",
    "        input_example=X.head(20),\n",
    "        registered_model_name=model_name,\n",
    "    )\n",
    "\n",
    "    # Log the hyperparameters\n",
    "    mlflow.log_params(params)\n",
    "\n",
    "    # Prepare metrics, in dictionary format\n",
    "    loss_metrics = cv_res.mean().to_dict()\n",
    "    size[\"name\"] = size[\"name\"] + \"_size\"\n",
    "    size_metrics = size.set_index(\"name\")[\"act_size\"].to_dict()\n",
    "\n",
    "    # Log metrics\n",
    "    mlflow.log_metrics(loss_metrics)\n",
    "    mlflow.log_metrics(size_metrics)\n",
    "\n",
    "    # Log the diagnostic plots\n",
    "    mlflow.log_figure(diag_fig, \"model_diagnostics.png\")"
   ]
  },
  {
   "cell_type": "code",
   "execution_count": null,
   "metadata": {},
   "outputs": [],
   "source": [
    "# Load the latest model back for predictions\n",
    "model_uri = f\"models:/{model_name}/latest\"\n",
    "loaded_model = mlflow.sklearn.load_model(model_uri)\n",
    "\n",
    "predictions = loaded_model.predict(X.head(1))\n",
    "\n",
    "predictions"
   ]
  },
  {
   "cell_type": "code",
   "execution_count": null,
   "metadata": {},
   "outputs": [],
   "source": []
  }
 ],
 "metadata": {
  "kernelspec": {
   "display_name": ".venv",
   "language": "python",
   "name": "python3"
  },
  "language_info": {
   "codemirror_mode": {
    "name": "ipython",
    "version": 3
   },
   "file_extension": ".py",
   "mimetype": "text/x-python",
   "name": "python",
   "nbconvert_exporter": "python",
   "pygments_lexer": "ipython3",
   "version": "3.11.5"
  }
 },
 "nbformat": 4,
 "nbformat_minor": 2
}
